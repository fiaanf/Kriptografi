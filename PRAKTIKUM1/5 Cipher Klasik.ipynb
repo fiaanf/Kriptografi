{
  "nbformat": 4,
  "nbformat_minor": 0,
  "metadata": {
    "colab": {
      "provenance": []
    },
    "kernelspec": {
      "name": "python3",
      "display_name": "Python 3"
    },
    "language_info": {
      "name": "python"
    }
  },
  "cells": [
    {
      "cell_type": "code",
      "execution_count": null,
      "metadata": {
        "colab": {
          "base_uri": "https://localhost:8080/"
        },
        "id": "UwAN7ZtAXjC9",
        "outputId": "7b5286e6-505a-49ad-c9f2-a94a4ca758ce"
      },
      "outputs": [
        {
          "output_type": "stream",
          "name": "stdout",
          "text": [
            "KHOOR\n"
          ]
        }
      ],
      "source": [
        "def caesar_encrypt(text, shift):\n",
        "  result = ''\n",
        "  for char in text:\n",
        "    if char.isalpha():\n",
        "      base = ord('A') if char.isupper() else ord('a')\n",
        "      result += chr((ord(char) - base + shift) % 26 + base)\n",
        "    else:\n",
        "      result += char\n",
        "  return result\n",
        "print(caesar_encrypt('HELLO', 3))"
      ]
    },
    {
      "cell_type": "code",
      "source": [
        "def vigenere_encrypt(plain, key):\n",
        "  key = key.upper()\n",
        "  result = ''\n",
        "  for i, char in enumerate(plain.upper()):\n",
        "    if char.isalpha():\n",
        "      shift = ord(key[i % len(key)]) - 65\n",
        "      result += chr((ord(char) - 65 + shift) % 26 + 65)\n",
        "    else:\n",
        "      result += char\n",
        "  return result\n",
        "print(vigenere_encrypt('ATTACKATDAWN', 'LEMON'))"
      ],
      "metadata": {
        "colab": {
          "base_uri": "https://localhost:8080/"
        },
        "id": "wiU9S8kZacxu",
        "outputId": "3de38832-897d-4207-a9d8-7dc5888ef5e1"
      },
      "execution_count": null,
      "outputs": [
        {
          "output_type": "stream",
          "name": "stdout",
          "text": [
            "LXFOPVEFRNHR\n"
          ]
        }
      ]
    },
    {
      "cell_type": "code",
      "source": [
        "def affine_encrypt(text, a, b):\n",
        "  result = ''\n",
        "  for char in text.upper():\n",
        "    if char.isalpha():\n",
        "      result += chr(((a * (ord(char) - 65) + b) % 26) + 65)\n",
        "    else:\n",
        "      result += char\n",
        "  return result\n",
        "print(affine_encrypt('HELLO', 5, 8))"
      ],
      "metadata": {
        "colab": {
          "base_uri": "https://localhost:8080/"
        },
        "id": "kdcmXNGx6Gbs",
        "outputId": "e1fa1b59-8761-4a31-e2b8-0afebb30c074"
      },
      "execution_count": 3,
      "outputs": [
        {
          "output_type": "stream",
          "name": "stdout",
          "text": [
            "RCLLA\n"
          ]
        }
      ]
    },
    {
      "cell_type": "code",
      "source": [
        "def generate_table(key):\n",
        "  alphabet = 'ABCDEFGHIKLMNOPQRSTUVWXYZ'\n",
        "  table = ''\n",
        "  for c in key.upper() + alphabet:\n",
        "    if c not in table:\n",
        "      table += c\n",
        "  return [table[i:i+5] for i in range(0,25,5)]\n",
        "table = generate_table('KEYWORD')\n",
        "for row in table: print(row)"
      ],
      "metadata": {
        "colab": {
          "base_uri": "https://localhost:8080/"
        },
        "id": "SZpFyHIf6q2t",
        "outputId": "abba0520-e670-4cd6-c9bf-593985d52bf9"
      },
      "execution_count": 4,
      "outputs": [
        {
          "output_type": "stream",
          "name": "stdout",
          "text": [
            "KEYWO\n",
            "RDABC\n",
            "FGHIL\n",
            "MNPQS\n",
            "TUVXZ\n"
          ]
        }
      ]
    },
    {
      "cell_type": "code",
      "source": [
        "import numpy as np\n",
        "\n",
        "def hill_encrypt(text, key):\n",
        "  text = text.upper().replace(' ', '')\n",
        "  n = int(len(key)**0.5)\n",
        "  key = np.array(key).reshape(n, n)\n",
        "  result = ''\n",
        "  for i in range(0, len(text), n):\n",
        "    block = [ord(c) - 65 for c in text[i:i+n]]\n",
        "    cipher = np.dot(key, block) % 26\n",
        "    result += ''.join(chr(c + 65) for c in cipher)\n",
        "  return result\n",
        "print(hill_encrypt('TEST', [3,3,2,5]))"
      ],
      "metadata": {
        "colab": {
          "base_uri": "https://localhost:8080/"
        },
        "id": "ZzN9ue637C9H",
        "outputId": "f1c6a733-ef92-4a88-dd5b-866447b6f689"
      },
      "execution_count": 9,
      "outputs": [
        {
          "output_type": "stream",
          "name": "stdout",
          "text": [
            "RGHB\n"
          ]
        }
      ]
    }
  ]
}